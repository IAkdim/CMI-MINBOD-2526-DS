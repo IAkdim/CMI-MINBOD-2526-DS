{
 "cells": [
  {
   "cell_type": "markdown",
   "id": "m1yvp2aeyg",
   "metadata": {},
   "source": [
    "# Feature Engineering Pipeline\n",
    "\n",
    "**Feature categories:**\n",
    "- Productivity and structural indicators\n",
    "- Time-based features (lags, growth rates, smoothing)\n",
    "- Transformations and interactions\n",
    "- Investment and capital dynamics\n",
    "- Labor market dynamics\n",
    "- Price level comparisons\n",
    "- Convergence analysis\n",
    "- TFP and efficiency measures\n",
    "- Volatility and crisis indicators"
   ]
  },
  {
   "cell_type": "code",
   "execution_count": null,
   "id": "f018e7db",
   "metadata": {},
   "outputs": [],
   "source": [
    "import pandas as pd\n",
    "import numpy as np"
   ]
  },
  {
   "cell_type": "markdown",
   "id": "bjr9vnqz9f",
   "metadata": {},
   "source": [
    "## Load Data"
   ]
  },
  {
   "cell_type": "code",
   "execution_count": null,
   "id": "1119f36a",
   "metadata": {},
   "outputs": [],
   "source": [
    "df = pd.read_csv(\"dataset/pwt110_cleaned.csv\")\n",
    "print(f\"Loaded {df.shape[0]:,} rows, {df.shape[1]} columns\")"
   ]
  },
  {
   "cell_type": "markdown",
   "id": "ue4oeajyedf",
   "metadata": {},
   "source": [
    "## Productivity and Structural Indicators\n",
    "\n",
    "**GDP per capita** (`gdp_pc`): Standard of living measure; enables cross-country comparisons and tracks economic development over time.\n",
    "\n",
    "**GDP per worker** (`gdp_pw`): Labor productivity without adjusting for skill levels; useful for understanding raw output efficiency.\n",
    "\n",
    "**GDP per hour** (`gdp_ph`): Most precise productivity measure; accounts for differences in work hours across countries; limited by data availability.\n",
    "\n",
    "**Employment rate** (`emp_rate`): Labor market participation indicator; reflects demographic structure and labor market institutions.\n",
    "\n",
    "**Capital per worker** (`k_per_worker`): Capital intensity; key input in growth accounting and convergence regressions.\n",
    "\n",
    "**Trade openness** (`trade_open`): Sum of exports and imports as share of GDP; measures economic integration with global markets.\n",
    "\n",
    "**Net exports** (`net_exports`): Current account proxy; indicates whether country is net lender or borrower internationally.\n",
    "\n",
    "**Effective labor** (`eff_labor`): Human capital-adjusted employment; recognizes that skilled workers contribute more than raw headcount.\n",
    "\n",
    "**GDP per effective worker** (`gdp_per_eff_worker`): Productivity adjusted for education/skills; isolates technology and capital effects from human capital."
   ]
  },
  {
   "cell_type": "code",
   "execution_count": null,
   "id": "944abc86",
   "metadata": {},
   "outputs": [],
   "source": [
    "df[\"gdp_pc\"] = df[\"rgdpo\"] / df[\"pop\"]\n",
    "df[\"gdp_pw\"] = df[\"rgdpo\"] / df[\"emp\"]\n",
    "df[\"gdp_ph\"] = df[\"rgdpo\"] / (df[\"emp\"] * df[\"avh\"])\n",
    "\n",
    "df[\"emp_rate\"] = df[\"emp\"] / df[\"pop\"]\n",
    "\n",
    "if \"rkna\" in df.columns:\n",
    "    df[\"k_per_worker\"] = df[\"rkna\"] / df[\"emp\"]\n",
    "\n",
    "df[\"trade_open\"] = df[\"csh_x\"] + df[\"csh_m\"]\n",
    "df[\"net_exports\"] = df[\"csh_x\"] - df[\"csh_m\"]\n",
    "\n",
    "df[\"eff_labor\"] = df[\"hc\"] * df[\"emp\"]\n",
    "df[\"gdp_per_eff_worker\"] = df[\"rgdpo\"] / df[\"eff_labor\"]"
   ]
  },
  {
   "cell_type": "markdown",
   "id": "4w02jks1lpm",
   "metadata": {},
   "source": [
    "## Time-Based Features\n",
    "\n",
    "**Lagged GDP per capita** (`gdp_pc_lag1`): Previous year's income level; essential for beta convergence tests (do poor countries grow faster?).\n",
    "\n",
    "**Growth rates** (`*_growth`): Year-over-year percentage changes; standard metric for economic dynamics -> enables comparison across countries of different sizes.\n",
    "\n",
    "**5-year smoothed growth** (`gdp_pc_growth_5yr`): Reduces noise from business cycles and measurement error; reveals underlying trends more clearly than annual changes."
   ]
  },
  {
   "cell_type": "code",
   "execution_count": null,
   "id": "017f23cd",
   "metadata": {},
   "outputs": [],
   "source": [
    "df = df.sort_values([\"countrycode\", \"year\"])\n",
    "\n",
    "df[\"gdp_pc_lag1\"] = df.groupby(\"countrycode\")[\"gdp_pc\"].shift(1)\n",
    "\n",
    "for var in [\"gdp_pc\", \"pop\", \"hc\", \"rtfpna\", \"csh_i\"]:\n",
    "    df[f\"{var}_growth\"] = df.groupby(\"countrycode\")[var].pct_change() * 100\n",
    "\n",
    "df[\"gdp_pc_growth_5yr\"] = (\n",
    "    df.groupby(\"countrycode\")[\"gdp_pc_growth\"]\n",
    "    .rolling(window=5, min_periods=1)\n",
    "    .mean()\n",
    "    .reset_index(level=0, drop=True)\n",
    ")"
   ]
  },
  {
   "cell_type": "markdown",
   "id": "7h4m4cryuhg",
   "metadata": {},
   "source": [
    "## Transformations and Interactions\n",
    "\n",
    "\n",
    "**Log GDP per capita** (`log_gdp_pc`): Makes exponential growth easier to analyze; turns coefficients into percentage changes.\n",
    "\n",
    "**Log lagged GDP** (`log_gdp_pc_lag1`): Used in Solow growth model regressions; coefficient tests conditional convergence hypothesis.\n",
    "\n",
    "**GDP relative to world mean** (`gdp_pc_rel_world`): Normalizes for global trends; values >1 indicate above-average income; useful for sigma convergence analysis.\n",
    "\n",
    "**Globalization era** (`era_globalization`): Post-1990 flag; Marks the period after 1990 to account for major changes from trade opening, new technologies, and policy shifts.\n",
    "\n",
    "**Human capital × TFP** (`hc_x_tfp`): Interaction term; tests whether education amplifies technology adoption.\n",
    "\n",
    "**Human capital × Investment** (`hc_x_investment`): Tests whether skilled workers make capital more productive; relevant for endogenous growth models.\n",
    "\n",
    "**Trade × Human capital** (`trade_x_hc`): Captures that open economies with skilled workers may benefit more from technology transfer and learning-by-exporting."
   ]
  },
  {
   "cell_type": "code",
   "execution_count": null,
   "id": "75f03985",
   "metadata": {},
   "outputs": [],
   "source": [
    "df[\"log_gdp_pc\"] = np.log(df[\"gdp_pc\"])\n",
    "df[\"log_gdp_pc_lag1\"] = np.log(df[\"gdp_pc_lag1\"])\n",
    "\n",
    "df[\"gdp_pc_rel_world\"] = df[\"gdp_pc\"] / df.groupby(\"year\")[\"gdp_pc\"].transform(\"mean\")\n",
    "\n",
    "df[\"era_globalization\"] = (df[\"year\"] >= 1990).astype(int)\n",
    "\n",
    "df[\"hc_x_tfp\"] = df[\"hc\"] * df[\"rtfpna\"]\n",
    "df[\"hc_x_investment\"] = df[\"hc\"] * df[\"csh_i\"]\n",
    "df[\"trade_x_hc\"] = df[\"trade_open\"] * df[\"hc\"]"
   ]
  },
  {
   "cell_type": "markdown",
   "id": "f5wghacwmf",
   "metadata": {},
   "source": [
    "## Investment and Capital Dynamics\n",
    "\n",
    "**Net investment** (`net_investment`): Investment minus depreciation; actual net addition to capital stock; can be negative if depreciation exceeds gross investment.\n",
    "\n",
    "**Capital intensity** (`capital_intensity`): Capital-output ratio; high values suggest capital-abundant economies; key parameter in growth accounting.\n",
    "\n",
    "**Capital deepening growth** (`k_per_worker_growth`): Rate of capital accumulation per worker; distinguishes capital deepening from capital widening.\n",
    "\n",
    "**Investment efficiency** (`investment_efficiency`): TFP per unit of investment; measures how effectively investment translates into productivity gains; higher values indicate better allocation or technology adoption."
   ]
  },
  {
   "cell_type": "code",
   "execution_count": null,
   "id": "m91z0ai7yk",
   "metadata": {},
   "outputs": [],
   "source": [
    "df[\"net_investment\"] = df[\"csh_i\"] - df[\"delta\"]\n",
    "df[\"capital_intensity\"] = df[\"rkna\"] / df[\"rgdpo\"]\n",
    "\n",
    "df[\"k_per_worker_growth\"] = df.groupby(\"countrycode\")[\"k_per_worker\"].pct_change() * 100\n",
    "\n",
    "df[\"investment_efficiency\"] = df[\"rtfpna\"] / df[\"csh_i\"]"
   ]
  },
  {
   "cell_type": "markdown",
   "id": "r22pxb8c84k",
   "metadata": {},
   "source": [
    "## Labor Market Dynamics\n",
    "\n",
    "**Labor share growth** (`labsh_growth`): Changes in income distribution between capital and labor; declining labor shares may indicate skill-biased technical change or bargaining power shifts.\n",
    "\n",
    "**Human capital returns** (`hc_returns`): Marginal productivity gain from education/skills; positive values show that skilled workers produce proportionally more; useful for education policy evaluation.\n",
    "\n",
    "**Dependency ratio** (`dependency_ratio`): Population per worker; higher values indicate more dependents (children, elderly, unemployed) per employed person; affects savings rates and fiscal sustainability."
   ]
  },
  {
   "cell_type": "code",
   "execution_count": null,
   "id": "y199d3evm3m",
   "metadata": {},
   "outputs": [],
   "source": [
    "df[\"labsh_growth\"] = df.groupby(\"countrycode\")[\"labsh\"].pct_change() * 100\n",
    "\n",
    "df[\"hc_returns\"] = (df[\"gdp_per_eff_worker\"] - df[\"gdp_pw\"]) / df[\"gdp_pw\"]\n",
    "\n",
    "df[\"dependency_ratio\"] = df[\"pop\"] / df[\"emp\"]"
   ]
  },
  {
   "cell_type": "markdown",
   "id": "nkvgglfr36m",
   "metadata": {},
   "source": [
    "## Price Level Comparisons\n",
    "\n",
    "**Relative price level** (`rel_price_level`): GDP price level relative to US; values >1 mean country is more expensive; tests Balassa-Samuelson effect (rich countries have higher prices).\n",
    "\n",
    "**Terms of trade** (`terms_of_trade`): Ratio of export to import prices; improvement means country gets more imports per unit of exports; affects real income and welfare.\n",
    "\n",
    "**Investment price** (`investment_price`): Relative price of capital goods; high values discourage investment; explains differences in capital accumulation across countries.\n",
    "\n",
    "**Penn effect** (`penn_effect`): Interaction between income and price levels; tests whether richer countries systematically have higher price levels due to non-tradable sector productivity."
   ]
  },
  {
   "cell_type": "code",
   "execution_count": null,
   "id": "u3hjin1wph",
   "metadata": {},
   "outputs": [],
   "source": [
    "df[\"rel_price_level\"] = df[\"pl_gdpo\"]\n",
    "\n",
    "df[\"terms_of_trade\"] = df[\"pl_x\"] / df[\"pl_m\"]\n",
    "\n",
    "df[\"investment_price\"] = df[\"pl_i\"]\n",
    "\n",
    "df[\"penn_effect\"] = df[\"log_gdp_pc\"] * df[\"pl_gdpo\"]"
   ]
  },
  {
   "cell_type": "markdown",
   "id": "f6gw5b8ist",
   "metadata": {},
   "source": [
    "## Convergence Analysis\n",
    "\n",
    "**Distance from frontier** (`dist_from_frontier`): Absolute income gap to richest country; measures how far behind a country is;.\n",
    "\n",
    "**Catch-up speed** (`catchup_speed`): Growth rate relative to potential (gap to frontier); values >0 indicate convergence; tests whether distance affects growth speed.\n",
    "\n",
    "**Relative to frontier** (`rel_to_frontier`): Income as fraction of frontier; values near 1 mean country is at technological frontier."
   ]
  },
  {
   "cell_type": "code",
   "execution_count": null,
   "id": "58sveam6pip",
   "metadata": {},
   "outputs": [],
   "source": [
    "frontier_gdp = df.groupby(\"year\")[\"gdp_pc\"].transform(\"max\")\n",
    "df[\"dist_from_frontier\"] = frontier_gdp - df[\"gdp_pc\"]\n",
    "\n",
    "df[\"catchup_speed\"] = (df[\"gdp_pc\"] - df[\"gdp_pc_lag1\"]) / (frontier_gdp - df[\"gdp_pc_lag1\"])\n",
    "\n",
    "df[\"rel_to_frontier\"] = df[\"gdp_pc\"] / frontier_gdp"
   ]
  },
  {
   "cell_type": "markdown",
   "id": "dcn9d29owwd",
   "metadata": {},
   "source": [
    "## TFP and Efficiency Measures\n",
    "\n",
    "**TFP relative to US** (`tfp_rel_us`): Technology gap measure; US typically serves as frontier; values <1 indicate technology lag; used in development accounting.\n",
    "\n",
    "**Welfare-relevant TFP** (`welfare_tfp`): Adjusts for terms of trade changes; countries benefiting from favorable export prices show higher welfare TFP than standard TFP.\n",
    "\n",
    "**TFP growth acceleration** (`tfp_growth_accel`): Change in TFP growth rate; positive values indicate accelerating innovation."
   ]
  },
  {
   "cell_type": "code",
   "execution_count": null,
   "id": "gg2xidzj8qu",
   "metadata": {},
   "outputs": [],
   "source": [
    "us_tfp = df[df[\"countrycode\"] == \"USA\"].set_index(\"year\")[\"rtfpna\"]\n",
    "df[\"tfp_rel_us\"] = df.apply(lambda row: row[\"rtfpna\"] / us_tfp.get(row[\"year\"], np.nan) if pd.notna(row[\"rtfpna\"]) else np.nan, axis=1)\n",
    "\n",
    "df[\"welfare_tfp\"] = df[\"rwtfpna\"]\n",
    "\n",
    "df[\"tfp_growth_accel\"] = df.groupby(\"countrycode\")[\"rtfpna_growth\"].diff()"
   ]
  },
  {
   "cell_type": "markdown",
   "id": "qixnru79o2",
   "metadata": {},
   "source": [
    "## Volatility and Crisis Indicators\n",
    "\n",
    "**Growth volatility** (`growth_volatility`): 5-year rolling standard deviation of GDP growth; high values indicate instability; associated with lower investment and welfare.\n",
    "\n",
    "**Recession flag** (`recession_flag`): Recession flag; Binary indicator for negative growth years\n",
    "\n",
    "**Recession count** (`recession_count`): Cumulative number of recessions; countries with frequent recessions may have structural vulnerabilities.\n",
    "\n",
    "**Crisis dummy** (`crisis_dummy`): Severe contraction indicator (growth < -3%); more restrictive than just a recession; captures major economic disruptions like financial crises or political shocks."
   ]
  },
  {
   "cell_type": "code",
   "execution_count": null,
   "id": "82aat058wqj",
   "metadata": {},
   "outputs": [],
   "source": [
    "df[\"growth_volatility\"] = (\n",
    "    df.groupby(\"countrycode\")[\"gdp_pc_growth\"]\n",
    "    .rolling(window=5, min_periods=1)\n",
    "    .std()\n",
    "    .reset_index(level=0, drop=True)\n",
    ")\n",
    "\n",
    "df[\"recession_dummy\"] = (df[\"gdp_pc_growth\"] < 0).astype(int)\n",
    "df[\"recession_count\"] = df.groupby(\"countrycode\")[\"recession_dummy\"].cumsum()\n",
    "\n",
    "df[\"crisis_dummy\"] = (df[\"gdp_pc_growth\"] < -3).astype(int)"
   ]
  },
  {
   "cell_type": "markdown",
   "id": "cvstqzpbx3",
   "metadata": {},
   "source": [
    "## Export"
   ]
  },
  {
   "cell_type": "code",
   "execution_count": null,
   "id": "3af4036c",
   "metadata": {},
   "outputs": [],
   "source": [
    "df.to_csv(\"dataset/pwt110_features.csv\", index=False)\n",
    "df.to_excel(\"dataset/pwt110_features.xlsx\", index=False)\n",
    "\n",
    "print(\"Saved enriched dataset with engineered features.\")"
   ]
  }
 ],
 "metadata": {
  "language_info": {
   "name": "python"
  }
 },
 "nbformat": 4,
 "nbformat_minor": 5
}
