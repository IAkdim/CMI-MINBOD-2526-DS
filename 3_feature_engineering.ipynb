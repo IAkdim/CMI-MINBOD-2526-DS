{
 "cells": [
  {
   "cell_type": "markdown",
   "id": "m1yvp2aeyg",
   "metadata": {},
   "source": [
    "# Feature Engineering\n",
    "\n",
    "**Feature categories:**\n",
    "- Productivity and structural indicators\n",
    "- Time-based features (lags, growth rates, smoothing)\n",
    "- Transformations and interactions\n",
    "- Investment and capital dynamics\n",
    "- Labor market dynamics\n",
    "- Price level comparisons\n",
    "- Convergence analysis\n",
    "- TFP and efficiency measures\n",
    "- Volatility and crisis indicators"
   ]
  },
  {
   "cell_type": "code",
   "execution_count": 32,
   "id": "f018e7db",
   "metadata": {},
   "outputs": [],
   "source": [
    "import pandas as pd\n",
    "import numpy as np"
   ]
  },
  {
   "cell_type": "markdown",
   "id": "bjr9vnqz9f",
   "metadata": {},
   "source": [
    "## Load Data"
   ]
  },
  {
   "cell_type": "code",
   "execution_count": 33,
   "id": "1119f36a",
   "metadata": {},
   "outputs": [
    {
     "name": "stdout",
     "output_type": "stream",
     "text": [
      "Loaded 11,201 rows, 51 columns\n"
     ]
    }
   ],
   "source": [
    "df = pd.read_csv(\"dataset/pwt110_cleaned.csv\")\n",
    "print(f\"Loaded {df.shape[0]:,} rows, {df.shape[1]} columns\")"
   ]
  },
  {
   "cell_type": "markdown",
   "id": "ue4oeajyedf",
   "metadata": {},
   "source": [
    "## Productivity and Structural Indicators\n",
    "\n",
    "**GDP per capita** (`gdp_pc`): Standard of living measure; enables cross-country comparisons and tracks economic development over time.\n",
    "\n",
    "**GDP per worker** (`gdp_pw`): Labor productivity without adjusting for skill levels; useful for understanding raw output efficiency.\n",
    "\n",
    "**GDP per hour** (`gdp_ph`): Most precise productivity measure; accounts for differences in work hours across countries; limited by data availability.\n",
    "\n",
    "**Employment rate** (`emp_rate`): Labor market participation indicator; reflects demographic structure and labor market institutions.\n",
    "\n",
    "**Capital per worker** (`k_per_worker`): Capital intensity; key input in growth accounting and convergence regressions.\n",
    "\n",
    "**Trade openness** (`trade_open`): Sum of exports and imports as share of GDP; measures economic integration with global markets.\n",
    "\n",
    "**Net exports** (`net_exports`): Current account proxy; indicates whether country is net lender or borrower internationally.\n",
    "\n",
    "**Effective labor** (`eff_labor`): Human capital-adjusted employment; recognizes that skilled workers contribute more than raw headcount.\n",
    "\n",
    "**GDP per effective worker** (`gdp_per_eff_worker`): Productivity adjusted for education/skills; isolates technology and capital effects from human capital."
   ]
  },
  {
   "cell_type": "code",
   "execution_count": 34,
   "id": "944abc86",
   "metadata": {},
   "outputs": [],
   "source": [
    "df[\"gdp_pc\"] = df[\"rgdpo\"] / df[\"pop\"]\n",
    "df[\"gdp_pw\"] = df[\"rgdpo\"] / df[\"emp\"]\n",
    "df[\"gdp_ph\"] = df[\"rgdpo\"] / (df[\"emp\"] * df[\"avh\"])\n",
    "\n",
    "df[\"emp_rate\"] = df[\"emp\"] / df[\"pop\"]\n",
    "\n",
    "if \"rkna\" in df.columns:\n",
    "    df[\"k_per_worker\"] = df[\"rkna\"] / df[\"emp\"]\n",
    "\n",
    "df[\"trade_open\"] = df[\"csh_x\"] + df[\"csh_m\"]\n",
    "df[\"net_exports\"] = df[\"csh_x\"] - df[\"csh_m\"]\n",
    "\n",
    "df[\"eff_labor\"] = df[\"hc\"] * df[\"emp\"]\n",
    "df[\"gdp_per_eff_worker\"] = df[\"rgdpo\"] / df[\"eff_labor\"]"
   ]
  },
  {
   "cell_type": "markdown",
   "id": "4w02jks1lpm",
   "metadata": {},
   "source": [
    "## Time-Based Features\n",
    "\n",
    "**Lagged GDP per capita** (`gdp_pc_lag1`): Previous year's income level; essential for beta convergence tests (do poor countries grow faster?).\n",
    "\n",
    "**Growth rates** (`*_growth`): Year-over-year percentage changes; standard metric for economic dynamics -> enables comparison across countries of different sizes.\n",
    "\n",
    "**5-year smoothed growth** (`gdp_pc_growth_5yr`): Reduces noise from business cycles and measurement error; reveals underlying trends more clearly than annual changes."
   ]
  },
  {
   "cell_type": "code",
   "execution_count": 35,
   "id": "017f23cd",
   "metadata": {},
   "outputs": [
    {
     "name": "stderr",
     "output_type": "stream",
     "text": [
      "/tmp/ipykernel_317754/3672183808.py:6: FutureWarning: The default fill_method='ffill' in SeriesGroupBy.pct_change is deprecated and will be removed in a future version. Either fill in any non-leading NA values prior to calling pct_change or specify 'fill_method=None' to not fill NA values.\n",
      "  df[f\"{var}_growth\"] = df.groupby(\"countrycode\")[var].pct_change() * 100\n",
      "/tmp/ipykernel_317754/3672183808.py:6: FutureWarning: The default fill_method='ffill' in SeriesGroupBy.pct_change is deprecated and will be removed in a future version. Either fill in any non-leading NA values prior to calling pct_change or specify 'fill_method=None' to not fill NA values.\n",
      "  df[f\"{var}_growth\"] = df.groupby(\"countrycode\")[var].pct_change() * 100\n"
     ]
    }
   ],
   "source": [
    "df = df.sort_values([\"countrycode\", \"year\"])\n",
    "\n",
    "df[\"gdp_pc_lag1\"] = df.groupby(\"countrycode\")[\"gdp_pc\"].shift(1)\n",
    "\n",
    "for var in [\"gdp_pc\", \"pop\", \"hc\", \"rtfpna\", \"csh_i\"]:\n",
    "    df[f\"{var}_growth\"] = df.groupby(\"countrycode\")[var].pct_change() * 100\n",
    "\n",
    "df[\"gdp_pc_growth_5yr\"] = (\n",
    "    df.groupby(\"countrycode\")[\"gdp_pc_growth\"]\n",
    "    .rolling(window=5, min_periods=1)\n",
    "    .mean()\n",
    "    .reset_index(level=0, drop=True)\n",
    ")"
   ]
  },
  {
   "cell_type": "markdown",
   "id": "7h4m4cryuhg",
   "metadata": {},
   "source": [
    "## Transformations and Interactions\n",
    "\n",
    "\n",
    "**Log GDP per capita** (`log_gdp_pc`): Makes exponential growth easier to analyze; turns coefficients into percentage changes.\n",
    "\n",
    "**Log lagged GDP** (`log_gdp_pc_lag1`): Used in Solow growth model regressions; coefficient tests conditional convergence hypothesis.\n",
    "\n",
    "**GDP relative to world mean** (`gdp_pc_rel_world`): Normalizes for global trends; values >1 indicate above-average income; useful for sigma convergence analysis.\n",
    "\n",
    "**Globalization era** (`era_globalization`): Post-1990 flag; Marks the period after 1990 to account for major changes from trade opening, new technologies, and policy shifts.\n",
    "\n",
    "**Human capital × TFP** (`hc_x_tfp`): Interaction term; tests whether education amplifies technology adoption.\n",
    "\n",
    "**Human capital × Investment** (`hc_x_investment`): Tests whether skilled workers make capital more productive; relevant for endogenous growth models.\n",
    "\n",
    "**Trade × Human capital** (`trade_x_hc`): Captures that open economies with skilled workers may benefit more from technology transfer and learning-by-exporting."
   ]
  },
  {
   "cell_type": "code",
   "execution_count": 36,
   "id": "75f03985",
   "metadata": {},
   "outputs": [],
   "source": [
    "df[\"log_gdp_pc\"] = np.log(df[\"gdp_pc\"])\n",
    "df[\"log_gdp_pc_lag1\"] = np.log(df[\"gdp_pc_lag1\"])\n",
    "\n",
    "df[\"gdp_pc_rel_world\"] = df[\"gdp_pc\"] / df.groupby(\"year\")[\"gdp_pc\"].transform(\"mean\")\n",
    "\n",
    "df[\"era_globalization\"] = (df[\"year\"] >= 1990).astype(int)\n",
    "\n",
    "df[\"hc_x_tfp\"] = df[\"hc\"] * df[\"rtfpna\"]\n",
    "df[\"hc_x_investment\"] = df[\"hc\"] * df[\"csh_i\"]\n",
    "df[\"trade_x_hc\"] = df[\"trade_open\"] * df[\"hc\"]"
   ]
  },
  {
   "cell_type": "markdown",
   "id": "f5wghacwmf",
   "metadata": {},
   "source": [
    "## Investment and Capital Dynamics\n",
    "\n",
    "**Net investment** (`net_investment`): Investment minus depreciation; actual net addition to capital stock; can be negative if depreciation exceeds gross investment.\n",
    "\n",
    "**Capital intensity** (`capital_intensity`): Capital-output ratio; high values suggest capital-abundant economies; key parameter in growth accounting.\n",
    "\n",
    "**Capital deepening growth** (`k_per_worker_growth`): Rate of capital accumulation per worker; distinguishes capital deepening from capital widening.\n",
    "\n",
    "**Investment efficiency** (`investment_efficiency`): TFP per unit of investment; measures how effectively investment translates into productivity gains; higher values indicate better allocation or technology adoption."
   ]
  },
  {
   "cell_type": "code",
   "execution_count": 37,
   "id": "m91z0ai7yk",
   "metadata": {},
   "outputs": [
    {
     "name": "stderr",
     "output_type": "stream",
     "text": [
      "/tmp/ipykernel_317754/1758695403.py:4: FutureWarning: The default fill_method='ffill' in SeriesGroupBy.pct_change is deprecated and will be removed in a future version. Either fill in any non-leading NA values prior to calling pct_change or specify 'fill_method=None' to not fill NA values.\n",
      "  df[\"k_per_worker_growth\"] = df.groupby(\"countrycode\")[\"k_per_worker\"].pct_change() * 100\n"
     ]
    }
   ],
   "source": [
    "df[\"net_investment\"] = df[\"csh_i\"] - df[\"delta\"]\n",
    "df[\"capital_intensity\"] = df[\"rkna\"] / df[\"rgdpo\"]\n",
    "\n",
    "df[\"k_per_worker_growth\"] = df.groupby(\"countrycode\")[\"k_per_worker\"].pct_change() * 100\n",
    "\n",
    "df[\"investment_efficiency\"] = df[\"rtfpna\"] / df[\"csh_i\"]"
   ]
  },
  {
   "cell_type": "markdown",
   "id": "r22pxb8c84k",
   "metadata": {},
   "source": [
    "## Labor Market Dynamics\n",
    "\n",
    "**Labor share growth** (`labsh_growth`): Changes in income distribution between capital and labor; declining labor shares may indicate skill-biased technical change or bargaining power shifts.\n",
    "\n",
    "**Human capital returns** (`hc_returns`): Marginal productivity gain from education/skills; positive values show that skilled workers produce proportionally more; useful for education policy evaluation.\n",
    "\n",
    "**Dependency ratio** (`dependency_ratio`): Population per worker; higher values indicate more dependents (children, elderly, unemployed) per employed person; affects savings rates and fiscal sustainability."
   ]
  },
  {
   "cell_type": "code",
   "execution_count": 38,
   "id": "y199d3evm3m",
   "metadata": {},
   "outputs": [
    {
     "name": "stderr",
     "output_type": "stream",
     "text": [
      "/tmp/ipykernel_317754/2475415980.py:1: FutureWarning: The default fill_method='ffill' in SeriesGroupBy.pct_change is deprecated and will be removed in a future version. Either fill in any non-leading NA values prior to calling pct_change or specify 'fill_method=None' to not fill NA values.\n",
      "  df[\"labsh_growth\"] = df.groupby(\"countrycode\")[\"labsh\"].pct_change() * 100\n"
     ]
    }
   ],
   "source": [
    "df[\"labsh_growth\"] = df.groupby(\"countrycode\")[\"labsh\"].pct_change() * 100\n",
    "\n",
    "df[\"hc_returns\"] = (df[\"gdp_per_eff_worker\"] - df[\"gdp_pw\"]) / df[\"gdp_pw\"]\n",
    "\n",
    "df[\"dependency_ratio\"] = df[\"pop\"] / df[\"emp\"]"
   ]
  },
  {
   "cell_type": "markdown",
   "id": "nkvgglfr36m",
   "metadata": {},
   "source": [
    "## Price Level Comparisons\n",
    "\n",
    "**Relative price level** (`rel_price_level`): GDP price level relative to US; values >1 mean country is more expensive; tests Balassa-Samuelson effect (rich countries have higher prices).\n",
    "\n",
    "**Terms of trade** (`terms_of_trade`): Ratio of export to import prices; improvement means country gets more imports per unit of exports; affects real income and welfare.\n",
    "\n",
    "**Investment price** (`investment_price`): Relative price of capital goods; high values discourage investment; explains differences in capital accumulation across countries.\n",
    "\n",
    "**Penn effect** (`penn_effect`): Interaction between income and price levels; tests whether richer countries systematically have higher price levels due to non-tradable sector productivity."
   ]
  },
  {
   "cell_type": "code",
   "execution_count": 39,
   "id": "u3hjin1wph",
   "metadata": {},
   "outputs": [],
   "source": [
    "df[\"rel_price_level\"] = df[\"pl_gdpo\"]\n",
    "\n",
    "df[\"terms_of_trade\"] = df[\"pl_x\"] / df[\"pl_m\"]\n",
    "\n",
    "df[\"investment_price\"] = df[\"pl_i\"]\n",
    "\n",
    "df[\"penn_effect\"] = df[\"log_gdp_pc\"] * df[\"pl_gdpo\"]"
   ]
  },
  {
   "cell_type": "markdown",
   "id": "f6gw5b8ist",
   "metadata": {},
   "source": [
    "## Convergence Analysis\n",
    "\n",
    "**Distance from frontier** (`dist_from_frontier`): Absolute income gap to richest country; measures how far behind a country is;.\n",
    "\n",
    "**Catch-up speed** (`catchup_speed`): Growth rate relative to potential (gap to frontier); values >0 indicate convergence; tests whether distance affects growth speed.\n",
    "\n",
    "**Relative to frontier** (`rel_to_frontier`): Income as fraction of frontier; values near 1 mean country is at technological frontier."
   ]
  },
  {
   "cell_type": "code",
   "execution_count": 40,
   "id": "58sveam6pip",
   "metadata": {},
   "outputs": [],
   "source": [
    "frontier_gdp = df.groupby(\"year\")[\"gdp_pc\"].transform(\"max\")\n",
    "df[\"dist_from_frontier\"] = frontier_gdp - df[\"gdp_pc\"]\n",
    "\n",
    "df[\"catchup_speed\"] = (df[\"gdp_pc\"] - df[\"gdp_pc_lag1\"]) / (frontier_gdp - df[\"gdp_pc_lag1\"])\n",
    "\n",
    "df[\"rel_to_frontier\"] = df[\"gdp_pc\"] / frontier_gdp"
   ]
  },
  {
   "cell_type": "markdown",
   "id": "dcn9d29owwd",
   "metadata": {},
   "source": [
    "## TFP and Efficiency Measures\n",
    "\n",
    "**TFP relative to US** (`tfp_rel_us`): Technology gap measure; US typically serves as frontier; values <1 indicate technology lag; used in development accounting.\n",
    "\n",
    "**Welfare-relevant TFP** (`welfare_tfp`): Adjusts for terms of trade changes; countries benefiting from favorable export prices show higher welfare TFP than standard TFP.\n",
    "\n",
    "**TFP growth acceleration** (`tfp_growth_accel`): Change in TFP growth rate; positive values indicate accelerating innovation."
   ]
  },
  {
   "cell_type": "code",
   "execution_count": 41,
   "id": "gg2xidzj8qu",
   "metadata": {},
   "outputs": [],
   "source": [
    "us_tfp = df[df[\"countrycode\"] == \"USA\"].set_index(\"year\")[\"rtfpna\"]\n",
    "df[\"tfp_rel_us\"] = df.apply(lambda row: row[\"rtfpna\"] / us_tfp.get(row[\"year\"], np.nan) if pd.notna(row[\"rtfpna\"]) else np.nan, axis=1)\n",
    "\n",
    "df[\"welfare_tfp\"] = df[\"rwtfpna\"]\n",
    "\n",
    "df[\"tfp_growth_accel\"] = df.groupby(\"countrycode\")[\"rtfpna_growth\"].diff()"
   ]
  },
  {
   "cell_type": "markdown",
   "id": "qixnru79o2",
   "metadata": {},
   "source": [
    "## Volatility and Crisis Indicators\n",
    "\n",
    "Macroeconomic stability and shock measures:\n",
    "\n",
    "**Growth volatility** (`growth_volatility`): 5-year rolling standard deviation of GDP growth; high values indicate instability; associated with lower investment and welfare.\n",
    "\n",
    "**Recession dummy** (`recession_dummy`): Binary indicator for negative growth years; identifies economic contractions for event studies.\n",
    "\n",
    "**Recession count** (`recession_count`): Cumulative number of recessions; measures chronic instability; countries with frequent recessions may have structural vulnerabilities.\n",
    "\n",
    "**Crisis dummy** (`crisis_dummy`): Severe contraction indicator (growth < -3%); more restrictive than recession; captures major economic disruptions like financial crises or political shocks."
   ]
  },
  {
   "cell_type": "code",
   "execution_count": 42,
   "id": "82aat058wqj",
   "metadata": {},
   "outputs": [],
   "source": [
    "df[\"growth_volatility\"] = (\n",
    "    df.groupby(\"countrycode\")[\"gdp_pc_growth\"]\n",
    "    .rolling(window=5, min_periods=1)\n",
    "    .std()\n",
    "    .reset_index(level=0, drop=True)\n",
    ")\n",
    "\n",
    "df[\"recession_dummy\"] = (df[\"gdp_pc_growth\"] < 0).astype(int)\n",
    "df[\"recession_count\"] = df.groupby(\"countrycode\")[\"recession_dummy\"].cumsum()\n",
    "\n",
    "df[\"crisis_dummy\"] = (df[\"gdp_pc_growth\"] < -3).astype(int)"
   ]
  },
  {
   "cell_type": "markdown",
   "id": "cvstqzpbx3",
   "metadata": {},
   "source": [
    "## Export"
   ]
  },
  {
   "cell_type": "code",
   "execution_count": 43,
   "id": "3af4036c",
   "metadata": {},
   "outputs": [
    {
     "name": "stdout",
     "output_type": "stream",
     "text": [
      "Saved enriched dataset with engineered features.\n"
     ]
    }
   ],
   "source": [
    "df.to_csv(\"dataset/pwt110_features.csv\", index=False)\n",
    "df.to_excel(\"dataset/pwt110_features.xlsx\", index=False)\n",
    "\n",
    "print(\"Saved enriched dataset with engineered features.\")"
   ]
  },
  {
   "cell_type": "markdown",
   "id": "mf1cril52n",
   "metadata": {},
   "source": [
    "## Create Legend Sheet\n",
    "\n",
    "Add a Legend sheet to the Excel output combining original PWT variable definitions with all engineered features."
   ]
  },
  {
   "cell_type": "code",
   "execution_count": 44,
   "id": "ge5r86um2xs",
   "metadata": {},
   "outputs": [
    {
     "ename": "ValueError",
     "evalue": "2 columns passed, passed data had 3 columns",
     "output_type": "error",
     "traceback": [
      "\u001b[31m---------------------------------------------------------------------------\u001b[39m",
      "\u001b[31mAssertionError\u001b[39m                            Traceback (most recent call last)",
      "\u001b[36mFile \u001b[39m\u001b[32m~/School/data-science/CMI-MINBOD-2526-DS/.venv/lib/python3.13/site-packages/pandas/core/internals/construction.py:939\u001b[39m, in \u001b[36m_finalize_columns_and_data\u001b[39m\u001b[34m(content, columns, dtype)\u001b[39m\n\u001b[32m    938\u001b[39m \u001b[38;5;28;01mtry\u001b[39;00m:\n\u001b[32m--> \u001b[39m\u001b[32m939\u001b[39m     columns = \u001b[43m_validate_or_indexify_columns\u001b[49m\u001b[43m(\u001b[49m\u001b[43mcontents\u001b[49m\u001b[43m,\u001b[49m\u001b[43m \u001b[49m\u001b[43mcolumns\u001b[49m\u001b[43m)\u001b[49m\n\u001b[32m    940\u001b[39m \u001b[38;5;28;01mexcept\u001b[39;00m \u001b[38;5;167;01mAssertionError\u001b[39;00m \u001b[38;5;28;01mas\u001b[39;00m err:\n\u001b[32m    941\u001b[39m     \u001b[38;5;66;03m# GH#26429 do not raise user-facing AssertionError\u001b[39;00m\n",
      "\u001b[36mFile \u001b[39m\u001b[32m~/School/data-science/CMI-MINBOD-2526-DS/.venv/lib/python3.13/site-packages/pandas/core/internals/construction.py:986\u001b[39m, in \u001b[36m_validate_or_indexify_columns\u001b[39m\u001b[34m(content, columns)\u001b[39m\n\u001b[32m    984\u001b[39m \u001b[38;5;28;01mif\u001b[39;00m \u001b[38;5;129;01mnot\u001b[39;00m is_mi_list \u001b[38;5;129;01mand\u001b[39;00m \u001b[38;5;28mlen\u001b[39m(columns) != \u001b[38;5;28mlen\u001b[39m(content):  \u001b[38;5;66;03m# pragma: no cover\u001b[39;00m\n\u001b[32m    985\u001b[39m     \u001b[38;5;66;03m# caller's responsibility to check for this...\u001b[39;00m\n\u001b[32m--> \u001b[39m\u001b[32m986\u001b[39m     \u001b[38;5;28;01mraise\u001b[39;00m \u001b[38;5;167;01mAssertionError\u001b[39;00m(\n\u001b[32m    987\u001b[39m         \u001b[33mf\u001b[39m\u001b[33m\"\u001b[39m\u001b[38;5;132;01m{\u001b[39;00m\u001b[38;5;28mlen\u001b[39m(columns)\u001b[38;5;132;01m}\u001b[39;00m\u001b[33m columns passed, passed data had \u001b[39m\u001b[33m\"\u001b[39m\n\u001b[32m    988\u001b[39m         \u001b[33mf\u001b[39m\u001b[33m\"\u001b[39m\u001b[38;5;132;01m{\u001b[39;00m\u001b[38;5;28mlen\u001b[39m(content)\u001b[38;5;132;01m}\u001b[39;00m\u001b[33m columns\u001b[39m\u001b[33m\"\u001b[39m\n\u001b[32m    989\u001b[39m     )\n\u001b[32m    990\u001b[39m \u001b[38;5;28;01mif\u001b[39;00m is_mi_list:\n\u001b[32m    991\u001b[39m     \u001b[38;5;66;03m# check if nested list column, length of each sub-list should be equal\u001b[39;00m\n",
      "\u001b[31mAssertionError\u001b[39m: 2 columns passed, passed data had 3 columns",
      "\nThe above exception was the direct cause of the following exception:\n",
      "\u001b[31mValueError\u001b[39m                                Traceback (most recent call last)",
      "\u001b[36mCell\u001b[39m\u001b[36m \u001b[39m\u001b[32mIn[44]\u001b[39m\u001b[32m, line 50\u001b[39m\n\u001b[32m      1\u001b[39m original_legend = pd.read_excel(\u001b[33m'\u001b[39m\u001b[33mdataset/pwt110.xlsx\u001b[39m\u001b[33m'\u001b[39m, sheet_name=\u001b[33m'\u001b[39m\u001b[33mLegend\u001b[39m\u001b[33m'\u001b[39m)\n\u001b[32m      3\u001b[39m new_features = [\n\u001b[32m      4\u001b[39m     [\u001b[33m'\u001b[39m\u001b[33mgdp_pc\u001b[39m\u001b[33m'\u001b[39m, \u001b[33m'\u001b[39m\u001b[33mGDP per capita\u001b[39m\u001b[33m'\u001b[39m, \u001b[33m'\u001b[39m\u001b[33m2017 US$ (thousands)\u001b[39m\u001b[33m'\u001b[39m],\n\u001b[32m      5\u001b[39m     [\u001b[33m'\u001b[39m\u001b[33mgdp_pw\u001b[39m\u001b[33m'\u001b[39m, \u001b[33m'\u001b[39m\u001b[33mGDP per worker\u001b[39m\u001b[33m'\u001b[39m, \u001b[33m'\u001b[39m\u001b[33m2017 US$ (thousands)\u001b[39m\u001b[33m'\u001b[39m],\n\u001b[32m   (...)\u001b[39m\u001b[32m     47\u001b[39m     [\u001b[33m'\u001b[39m\u001b[33mcrisis_dummy\u001b[39m\u001b[33m'\u001b[39m, \u001b[33m'\u001b[39m\u001b[33mCrisis indicator (1 if GDP growth < -3\u001b[39m\u001b[33m%\u001b[39m\u001b[33m)\u001b[39m\u001b[33m'\u001b[39m, \u001b[33m'\u001b[39m\u001b[33mbinary\u001b[39m\u001b[33m'\u001b[39m]\n\u001b[32m     48\u001b[39m ]\n\u001b[32m---> \u001b[39m\u001b[32m50\u001b[39m new_legend_df = \u001b[43mpd\u001b[49m\u001b[43m.\u001b[49m\u001b[43mDataFrame\u001b[49m\u001b[43m(\u001b[49m\u001b[43mnew_features\u001b[49m\u001b[43m,\u001b[49m\u001b[43m \u001b[49m\u001b[43mcolumns\u001b[49m\u001b[43m=\u001b[49m\u001b[43moriginal_legend\u001b[49m\u001b[43m.\u001b[49m\u001b[43mcolumns\u001b[49m\u001b[43m)\u001b[49m\n\u001b[32m     51\u001b[39m combined_legend = pd.concat([original_legend, new_legend_df], ignore_index=\u001b[38;5;28;01mTrue\u001b[39;00m)\n\u001b[32m     53\u001b[39m \u001b[38;5;28;01mwith\u001b[39;00m pd.ExcelWriter(\u001b[33m'\u001b[39m\u001b[33mdataset/pwt110_features.xlsx\u001b[39m\u001b[33m'\u001b[39m, engine=\u001b[33m'\u001b[39m\u001b[33mopenpyxl\u001b[39m\u001b[33m'\u001b[39m, mode=\u001b[33m'\u001b[39m\u001b[33ma\u001b[39m\u001b[33m'\u001b[39m, if_sheet_exists=\u001b[33m'\u001b[39m\u001b[33mreplace\u001b[39m\u001b[33m'\u001b[39m) \u001b[38;5;28;01mas\u001b[39;00m writer:\n",
      "\u001b[36mFile \u001b[39m\u001b[32m~/School/data-science/CMI-MINBOD-2526-DS/.venv/lib/python3.13/site-packages/pandas/core/frame.py:855\u001b[39m, in \u001b[36mDataFrame.__init__\u001b[39m\u001b[34m(self, data, index, columns, dtype, copy)\u001b[39m\n\u001b[32m    853\u001b[39m     \u001b[38;5;28;01mif\u001b[39;00m columns \u001b[38;5;129;01mis\u001b[39;00m \u001b[38;5;129;01mnot\u001b[39;00m \u001b[38;5;28;01mNone\u001b[39;00m:\n\u001b[32m    854\u001b[39m         columns = ensure_index(columns)\n\u001b[32m--> \u001b[39m\u001b[32m855\u001b[39m     arrays, columns, index = \u001b[43mnested_data_to_arrays\u001b[49m\u001b[43m(\u001b[49m\n\u001b[32m    856\u001b[39m \u001b[43m        \u001b[49m\u001b[38;5;66;43;03m# error: Argument 3 to \"nested_data_to_arrays\" has incompatible\u001b[39;49;00m\n\u001b[32m    857\u001b[39m \u001b[43m        \u001b[49m\u001b[38;5;66;43;03m# type \"Optional[Collection[Any]]\"; expected \"Optional[Index]\"\u001b[39;49;00m\n\u001b[32m    858\u001b[39m \u001b[43m        \u001b[49m\u001b[43mdata\u001b[49m\u001b[43m,\u001b[49m\n\u001b[32m    859\u001b[39m \u001b[43m        \u001b[49m\u001b[43mcolumns\u001b[49m\u001b[43m,\u001b[49m\n\u001b[32m    860\u001b[39m \u001b[43m        \u001b[49m\u001b[43mindex\u001b[49m\u001b[43m,\u001b[49m\u001b[43m  \u001b[49m\u001b[38;5;66;43;03m# type: ignore[arg-type]\u001b[39;49;00m\n\u001b[32m    861\u001b[39m \u001b[43m        \u001b[49m\u001b[43mdtype\u001b[49m\u001b[43m,\u001b[49m\n\u001b[32m    862\u001b[39m \u001b[43m    \u001b[49m\u001b[43m)\u001b[49m\n\u001b[32m    863\u001b[39m     mgr = arrays_to_mgr(\n\u001b[32m    864\u001b[39m         arrays,\n\u001b[32m    865\u001b[39m         columns,\n\u001b[32m   (...)\u001b[39m\u001b[32m    868\u001b[39m         typ=manager,\n\u001b[32m    869\u001b[39m     )\n\u001b[32m    870\u001b[39m \u001b[38;5;28;01melse\u001b[39;00m:\n",
      "\u001b[36mFile \u001b[39m\u001b[32m~/School/data-science/CMI-MINBOD-2526-DS/.venv/lib/python3.13/site-packages/pandas/core/internals/construction.py:520\u001b[39m, in \u001b[36mnested_data_to_arrays\u001b[39m\u001b[34m(data, columns, index, dtype)\u001b[39m\n\u001b[32m    517\u001b[39m \u001b[38;5;28;01mif\u001b[39;00m is_named_tuple(data[\u001b[32m0\u001b[39m]) \u001b[38;5;129;01mand\u001b[39;00m columns \u001b[38;5;129;01mis\u001b[39;00m \u001b[38;5;28;01mNone\u001b[39;00m:\n\u001b[32m    518\u001b[39m     columns = ensure_index(data[\u001b[32m0\u001b[39m]._fields)\n\u001b[32m--> \u001b[39m\u001b[32m520\u001b[39m arrays, columns = \u001b[43mto_arrays\u001b[49m\u001b[43m(\u001b[49m\u001b[43mdata\u001b[49m\u001b[43m,\u001b[49m\u001b[43m \u001b[49m\u001b[43mcolumns\u001b[49m\u001b[43m,\u001b[49m\u001b[43m \u001b[49m\u001b[43mdtype\u001b[49m\u001b[43m=\u001b[49m\u001b[43mdtype\u001b[49m\u001b[43m)\u001b[49m\n\u001b[32m    521\u001b[39m columns = ensure_index(columns)\n\u001b[32m    523\u001b[39m \u001b[38;5;28;01mif\u001b[39;00m index \u001b[38;5;129;01mis\u001b[39;00m \u001b[38;5;28;01mNone\u001b[39;00m:\n",
      "\u001b[36mFile \u001b[39m\u001b[32m~/School/data-science/CMI-MINBOD-2526-DS/.venv/lib/python3.13/site-packages/pandas/core/internals/construction.py:845\u001b[39m, in \u001b[36mto_arrays\u001b[39m\u001b[34m(data, columns, dtype)\u001b[39m\n\u001b[32m    842\u001b[39m     data = [\u001b[38;5;28mtuple\u001b[39m(x) \u001b[38;5;28;01mfor\u001b[39;00m x \u001b[38;5;129;01min\u001b[39;00m data]\n\u001b[32m    843\u001b[39m     arr = _list_to_arrays(data)\n\u001b[32m--> \u001b[39m\u001b[32m845\u001b[39m content, columns = \u001b[43m_finalize_columns_and_data\u001b[49m\u001b[43m(\u001b[49m\u001b[43marr\u001b[49m\u001b[43m,\u001b[49m\u001b[43m \u001b[49m\u001b[43mcolumns\u001b[49m\u001b[43m,\u001b[49m\u001b[43m \u001b[49m\u001b[43mdtype\u001b[49m\u001b[43m)\u001b[49m\n\u001b[32m    846\u001b[39m \u001b[38;5;28;01mreturn\u001b[39;00m content, columns\n",
      "\u001b[36mFile \u001b[39m\u001b[32m~/School/data-science/CMI-MINBOD-2526-DS/.venv/lib/python3.13/site-packages/pandas/core/internals/construction.py:942\u001b[39m, in \u001b[36m_finalize_columns_and_data\u001b[39m\u001b[34m(content, columns, dtype)\u001b[39m\n\u001b[32m    939\u001b[39m     columns = _validate_or_indexify_columns(contents, columns)\n\u001b[32m    940\u001b[39m \u001b[38;5;28;01mexcept\u001b[39;00m \u001b[38;5;167;01mAssertionError\u001b[39;00m \u001b[38;5;28;01mas\u001b[39;00m err:\n\u001b[32m    941\u001b[39m     \u001b[38;5;66;03m# GH#26429 do not raise user-facing AssertionError\u001b[39;00m\n\u001b[32m--> \u001b[39m\u001b[32m942\u001b[39m     \u001b[38;5;28;01mraise\u001b[39;00m \u001b[38;5;167;01mValueError\u001b[39;00m(err) \u001b[38;5;28;01mfrom\u001b[39;00m\u001b[38;5;250m \u001b[39m\u001b[34;01merr\u001b[39;00m\n\u001b[32m    944\u001b[39m \u001b[38;5;28;01mif\u001b[39;00m \u001b[38;5;28mlen\u001b[39m(contents) \u001b[38;5;129;01mand\u001b[39;00m contents[\u001b[32m0\u001b[39m].dtype == np.object_:\n\u001b[32m    945\u001b[39m     contents = convert_object_array(contents, dtype=dtype)\n",
      "\u001b[31mValueError\u001b[39m: 2 columns passed, passed data had 3 columns"
     ]
    }
   ],
   "source": [
    "original_legend = pd.read_excel('dataset/pwt110.xlsx', sheet_name='Legend')\n",
    "\n",
    "new_features = [\n",
    "    ['gdp_pc', 'GDP per capita', '2017 US$ (thousands)'],\n",
    "    ['gdp_pw', 'GDP per worker', '2017 US$ (thousands)'],\n",
    "    ['gdp_ph', 'GDP per hour worked', '2017 US$'],\n",
    "    ['emp_rate', 'Employment rate (employment/population)', 'ratio'],\n",
    "    ['k_per_worker', 'Capital per worker', '2017 US$ (thousands)'],\n",
    "    ['trade_open', 'Trade openness (sum of export and import shares)', 'share of GDP'],\n",
    "    ['net_exports', 'Net exports (export share minus import share)', 'share of GDP'],\n",
    "    ['eff_labor', 'Effective labor (human capital adjusted employment)', 'millions'],\n",
    "    ['gdp_per_eff_worker', 'GDP per effective worker', '2017 US$ (thousands)'],\n",
    "    ['gdp_pc_lag1', 'GDP per capita, lagged one year', '2017 US$ (thousands)'],\n",
    "    ['gdp_pc_growth', 'GDP per capita growth rate', 'percent'],\n",
    "    ['pop_growth', 'Population growth rate', 'percent'],\n",
    "    ['hc_growth', 'Human capital growth rate', 'percent'],\n",
    "    ['rtfpna_growth', 'TFP growth rate', 'percent'],\n",
    "    ['csh_i_growth', 'Investment share growth rate', 'percent'],\n",
    "    ['gdp_pc_growth_5yr', 'GDP per capita growth rate, 5-year moving average', 'percent'],\n",
    "    ['log_gdp_pc', 'Natural log of GDP per capita', 'log'],\n",
    "    ['log_gdp_pc_lag1', 'Natural log of GDP per capita, lagged one year', 'log'],\n",
    "    ['gdp_pc_rel_world', 'GDP per capita relative to world mean', 'ratio'],\n",
    "    ['era_globalization', 'Globalization era indicator (1 if year >= 1990)', 'binary'],\n",
    "    ['hc_x_tfp', 'Human capital × TFP interaction', 'index'],\n",
    "    ['hc_x_investment', 'Human capital × Investment share interaction', 'index'],\n",
    "    ['trade_x_hc', 'Trade openness × Human capital interaction', 'index'],\n",
    "    ['net_investment', 'Net investment (investment share minus depreciation)', 'share of GDP'],\n",
    "    ['capital_intensity', 'Capital intensity (capital stock/GDP)', 'ratio'],\n",
    "    ['k_per_worker_growth', 'Capital per worker growth rate', 'percent'],\n",
    "    ['investment_efficiency', 'Investment efficiency (TFP/investment share)', 'index'],\n",
    "    ['labsh_growth', 'Labor share growth rate', 'percent'],\n",
    "    ['hc_returns', 'Human capital returns (productivity gain from education)', 'ratio'],\n",
    "    ['dependency_ratio', 'Dependency ratio (population/employment)', 'ratio'],\n",
    "    ['rel_price_level', 'Relative GDP price level (USA=1)', 'index'],\n",
    "    ['terms_of_trade', 'Terms of trade (export/import price ratio)', 'index'],\n",
    "    ['investment_price', 'Relative price of investment goods', 'index'],\n",
    "    ['penn_effect', 'Penn effect (log GDP per capita × price level)', 'index'],\n",
    "    ['dist_from_frontier', 'Distance from frontier (max GDP per capita - GDP per capita)', '2017 US$ (thousands)'],\n",
    "    ['catchup_speed', 'Catch-up speed (growth relative to frontier gap)', 'ratio'],\n",
    "    ['rel_to_frontier', 'GDP per capita relative to frontier', 'ratio'],\n",
    "    ['tfp_rel_us', 'TFP relative to USA', 'ratio'],\n",
    "    ['welfare_tfp', 'Welfare-relevant TFP (terms of trade adjusted)', 'index'],\n",
    "    ['tfp_growth_accel', 'TFP growth acceleration (change in growth rate)', 'percentage points'],\n",
    "    ['growth_volatility', 'Growth volatility (5-year rolling standard deviation)', 'percent'],\n",
    "    ['recession_dummy', 'Recession indicator (1 if GDP growth < 0)', 'binary'],\n",
    "    ['recession_count', 'Cumulative recession count', 'count'],\n",
    "    ['crisis_dummy', 'Crisis indicator (1 if GDP growth < -3%)', 'binary']\n",
    "]\n",
    "\n",
    "new_legend_df = pd.DataFrame(new_features, columns=original_legend.columns)\n",
    "combined_legend = pd.concat([original_legend, new_legend_df], ignore_index=True)\n",
    "\n",
    "with pd.ExcelWriter('dataset/pwt110_features.xlsx', engine='openpyxl', mode='a', if_sheet_exists='replace') as writer:\n",
    "    combined_legend.to_excel(writer, sheet_name='Legend', index=False)\n",
    "\n",
    "print(f\"Legend sheet created with {len(combined_legend)} variables ({len(original_legend)} original + {len(new_features)} engineered)\")"
   ]
  }
 ],
 "metadata": {
  "language_info": {
   "name": "python"
  }
 },
 "nbformat": 4,
 "nbformat_minor": 5
}
